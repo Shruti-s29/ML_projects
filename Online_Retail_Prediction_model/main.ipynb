{
 "cells": [
  {
   "cell_type": "code",
   "execution_count": 1,
   "metadata": {},
   "outputs": [],
   "source": [
    "import pandas as pd\n",
    "from sklearn.linear_model import LinearRegression\n",
    "from datetime import datetime\n",
    "from sklearn.model_selection import train_test_split\n",
    "from sklearn.linear_model import LinearRegression\n",
    "from sklearn.metrics import mean_squared_error"
   ]
  },
  {
   "cell_type": "code",
   "execution_count": 3,
   "metadata": {},
   "outputs": [],
   "source": [
    "def convert_xlsx_to_csv(input_file, output_file):\n",
    "    # Read the XLSX file into a pandas DataFrame\n",
    "    df = pd.read_excel(input_file)\n",
    "\n",
    "    # Write the DataFrame to a CSV file\n",
    "    df.to_csv(output_file, index=False)\n",
    "\n",
    "\n",
    "input_file = 'Online Retail.xlsx'  \n",
    "output_file = 'output.csv'  \n",
    "\n",
    "convert_xlsx_to_csv(input_file, output_file)"
   ]
  },
  {
   "cell_type": "code",
   "execution_count": 4,
   "metadata": {},
   "outputs": [],
   "source": [
    "# Read the dataset into a DataFrame\n",
    "df = pd.read_csv(output_file)  \n",
    "# df.head()"
   ]
  },
  {
   "cell_type": "code",
   "execution_count": 5,
   "metadata": {},
   "outputs": [
    {
     "name": "stdout",
     "output_type": "stream",
     "text": [
      "            Quantity      UnitPrice     CustomerID\n",
      "count  541909.000000  541909.000000  406829.000000\n",
      "mean        9.552250       4.611114   15287.690570\n",
      "std       218.081158      96.759853    1713.600303\n",
      "min    -80995.000000  -11062.060000   12346.000000\n",
      "25%         1.000000       1.250000   13953.000000\n",
      "50%         3.000000       2.080000   15152.000000\n",
      "75%        10.000000       4.130000   16791.000000\n",
      "max     80995.000000   38970.000000   18287.000000\n",
      "InvoiceNo           0\n",
      "StockCode           0\n",
      "Description      1454\n",
      "Quantity            0\n",
      "InvoiceDate         0\n",
      "UnitPrice           0\n",
      "CustomerID     135080\n",
      "Country             0\n",
      "dtype: int64\n"
     ]
    }
   ],
   "source": [
    "print(df.describe())\n",
    "print(df.isna().sum())"
   ]
  },
  {
   "cell_type": "code",
   "execution_count": 6,
   "metadata": {},
   "outputs": [],
   "source": [
    "# -------------------- Data Preprocessing --------------------\n",
    "\n",
    "# removing negative values\n",
    "df_filtered = df[(df['Quantity'] >= 0) & (df['Quantity'] %1 ==0)]\n",
    "df_filtered = df_filtered.reset_index(drop=True)\n",
    "\n",
    "# df[\"Quantity\"] = df[\"Quantity\"].astype(int)\n",
    "df_filtered[\"InvoiceDate\"] = pd.to_datetime(df_filtered[\"InvoiceDate\"])\n",
    "df_filtered[\"UnitPrice\"] = df_filtered[\"UnitPrice\"].astype(float)\n",
    "# df[\"CustomerID\"] = df[\"CustomerID\"].astype(int)\n",
    "\n",
    "df_filtered.dropna(subset=[\"CustomerID\"], inplace=True)  # Drop rows with missing CustomerID values\n",
    "df_filtered[\"Description\"].fillna(\"Unknown\", inplace=True)  # Fill missing Description values with \"Unknown\"\n",
    "\n",
    "df_filtered[\"Description\"] = df_filtered[\"Description\"].str.strip()\n",
    "df_filtered[\"Country\"] = df_filtered[\"Country\"].str.strip()\n",
    "\n",
    "df_filtered.drop_duplicates(inplace=True)\n",
    "df_filtered.reset_index(drop=True, inplace=True)\n",
    "\n"
   ]
  },
  {
   "cell_type": "code",
   "execution_count": 7,
   "metadata": {},
   "outputs": [
    {
     "data": {
      "text/plain": [
       "InvoiceNo      0\n",
       "StockCode      0\n",
       "Description    0\n",
       "Quantity       0\n",
       "InvoiceDate    0\n",
       "UnitPrice      0\n",
       "CustomerID     0\n",
       "Country        0\n",
       "dtype: int64"
      ]
     },
     "execution_count": 7,
     "metadata": {},
     "output_type": "execute_result"
    }
   ],
   "source": [
    "# check again if the data is cleaned or not\n",
    "\n",
    "# df_filtered.describe()\n",
    "df_filtered.isna().sum()\n"
   ]
  },
  {
   "cell_type": "code",
   "execution_count": 8,
   "metadata": {},
   "outputs": [],
   "source": [
    "# --------- Feature engineering --------------\n",
    "\n",
    "df_filtered['Date'] = pd.to_datetime(df_filtered['InvoiceDate'])\n",
    "df_filtered['Day'] = df_filtered['InvoiceDate'].dt.day\n",
    "df_filtered['Month'] = df_filtered['InvoiceDate'].dt.month\n",
    "df_filtered['Year'] = df_filtered['InvoiceDate'].dt.year"
   ]
  },
  {
   "cell_type": "code",
   "execution_count": 13,
   "metadata": {},
   "outputs": [
    {
     "name": "stdout",
     "output_type": "stream",
     "text": [
      "Predicted Quantity: 13.928936609905804\n"
     ]
    }
   ],
   "source": [
    "# -----------Model Selecetion and training--------------\n",
    "\n",
    "model = LinearRegression()\n",
    "\n",
    "X = df_filtered[['CustomerID', 'Day', 'Month', 'Year']]\n",
    "y = df_filtered['Quantity']\n",
    "X_train, X_test, y_train, y_test = train_test_split(X, y, test_size=0.2, random_state=42)\n",
    "model.fit(X_train, y_train)\n",
    "\n",
    "# -------Model evaluation------\n",
    "y_pred = model.predict(X_test)\n",
    "## Uncomment this to see the mean absolute error --\n",
    "# mse = mean_squared_error(y_test, y_pred)\n",
    "# print(f\"Mean Squared Error: {mse}\")\n",
    "\n",
    "# ----------Prediction -------------\n",
    "customer_id = int(input(\"Enter CustomerID: \"))\n",
    "date_input = input(\"Enter Date: \")\n",
    "date = pd.to_datetime(date_input)\n",
    "new_data = pd.DataFrame({'CustomerID': [customer_id], 'Day': [date.day], 'Month': [date.month], 'Year': [date.year]})\n",
    "quantity_pred = model.predict(new_data)\n",
    "print(f\"Predicted Quantity: {quantity_pred[0]}\")"
   ]
  },
  {
   "cell_type": "code",
   "execution_count": null,
   "metadata": {},
   "outputs": [],
   "source": []
  }
 ],
 "metadata": {
  "kernelspec": {
   "display_name": "Python 3",
   "language": "python",
   "name": "python3"
  },
  "language_info": {
   "codemirror_mode": {
    "name": "ipython",
    "version": 3
   },
   "file_extension": ".py",
   "mimetype": "text/x-python",
   "name": "python",
   "nbconvert_exporter": "python",
   "pygments_lexer": "ipython3",
   "version": "3.10.0"
  },
  "orig_nbformat": 4
 },
 "nbformat": 4,
 "nbformat_minor": 2
}
